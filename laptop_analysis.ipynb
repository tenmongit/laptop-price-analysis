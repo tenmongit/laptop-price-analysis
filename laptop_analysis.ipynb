{
 "cells": [
  {
   "cell_type": "markdown",
   "id": "8ddbf3b4-63f3-4289-8fa4-030cf9a2b88d",
   "metadata": {},
   "source": [
    "# Laptop Prices Analysis\n",
    "\n",
    "This project investigates which features (CPU, RAM, SSD, GPU) most affect the price of laptops. We also perform clustering by price segments and identify anomalies in the data.\n",
    "\n",
    "## 🔍 What's analyzed?\n",
    "- Effect of features on price\n",
    "- Average price by brand\n",
    "- Division of notebooks into segments: budget, mid-range, premium, luxury\n",
    "- Search for abnormal models\n",
    "\n",
    "## 📊 Key takeaways:\n",
    "- **RAM and CPU are the most important features affecting price**.\n",
    "- **Apple and Razer are the most expensive brands**.\n",
    "- **SSDs with large capacities significantly increase the cost**.\n",
    "- **Anomalies are found, such as a laptop with 64GB RAM for $300 (this may be due to the type of RAM or data errors)**.\n",
    "\n",
    "## 🚀 How to start?\n",
    "1. Install dependencies: `pip install pandas seaborn matplotlib numpy`\n",
    "2. Open this notebook in VS Code (with Jupyter extension) or in Jupyter Notebook and run all cells."
   ]
  },
  {
   "cell_type": "code",
   "execution_count": null,
   "id": "a9d2b35e-8b4a-4a2f-86d3-bdfd2dbf3c7b",
   "metadata": {},
   "outputs": [],
   "source": [
    "import pandas as pd\n",
    "import matplotlib.pyplot as plt\n",
    "import seaborn as sns\n",
    "import numpy as np\n",
    "\n",
    "# Load the data\n",
    "laptops = pd.read_csv('laptop_prices.csv')\n",
    "\n",
    "# Split the 'Storage' column into 'Storage Size' and 'Storage Type'\n",
    "laptops[['Storage Size', 'Storage Type']] = laptops['Storage'].str.split(' ', expand=True)\n",
    "laptops.drop('Storage', axis=1, inplace=True)\n",
    "\n",
    "# Reorder columns\n",
    "new_order = ['Brand', 'Processor', 'RAM (GB)', 'Storage Type', 'Storage Size', 'GPU', \n",
    "             'Screen Size (inch)', 'Resolution', 'Battery Life (hours)', 'Weight (kg)', \n",
    "             'Operating System', 'Price ($)']\n",
    "laptops = laptops[new_order]\n",
    "\n",
    "def convert_storage_size(value):\n",
    "    value = value.upper().replace(' ', '')\n",
    "    if 'TB' in value:\n",
    "        return float(value.replace('TB', '')) * 1024  # Convert TB to GB\n",
    "    elif 'GB' in value:\n",
    "        return float(value.replace('GB', ''))\n",
    "    return None\n",
    "\n",
    "laptops['Storage Size'] = laptops['Storage Size'].apply(convert_storage_size)\n",
    "\n",
    "# Set Seaborn style\n",
    "sns.set_style('whitegrid')\n",
    "\n",
    "# Quick look at the data\n",
    "print(laptops.head())"
   ]
  },
  {
   "cell_type": "markdown",
   "id": "e1d3d0b5-4d7f-4e6d-b168-99e45d7ddc4f",
   "metadata": {},
   "source": [
    "## 1. Data Visualization\n",
    "\n",
    "Below are several plots that show the distribution of laptop prices and the effect of different features on the price."
   ]
  },
  {
   "cell_type": "code",
   "execution_count": null,
   "id": "c8a74b4b-4a2c-4cf4-9a22-2d3d5f1c6a75",
   "metadata": {},
   "outputs": [],
   "source": [
    "# Create a grid of subplots for various visualizations\n",
    "fig, axes = plt.subplots(2, 3, figsize=(20,8))\n",
    "\n",
    "# Price vs RAM\n",
    "sns.boxplot(x='RAM (GB)', y='Price ($)', data=laptops, ax=axes[1][0], palette='coolwarm')\n",
    "axes[1][0].set_title('Price depending on the amount of RAM')\n",
    "axes[1][0].set_xlabel('RAM (GB)')\n",
    "axes[1][0].set_ylabel('Price ($)')\n",
    "\n",
    "# Price vs Storage Size (with hue = Storage Type)\n",
    "sns.boxplot(x='Storage Size', y='Price ($)', data=laptops, ax=axes[1][1], hue='Storage Type', palette='viridis')\n",
    "axes[1][1].set_title('Price depending on the storage capacity')\n",
    "axes[1][1].set_xlabel('Storage Size (GB)')\n",
    "axes[1][1].set_ylabel('Price ($)')\n",
    "\n",
    "# Price vs GPU\n",
    "sns.boxplot(x='GPU', y='Price ($)', data=laptops, ax=axes[1][2], palette='magma')\n",
    "axes[1][2].set_title('Price depending on the GPU')\n",
    "axes[1][2].set_xlabel('GPU')\n",
    "axes[1][2].set_ylabel('Price ($)')\n",
    "axes[1][2].tick_params(axis='x', rotation=45)\n",
    "\n",
    "# Price distribution histogram\n",
    "sns.histplot(x='Price ($)', data=laptops, ax=axes[0][0])\n",
    "axes[0][0].set_title('Price distribution of laptops')\n",
    "\n",
    "# Price vs Brand\n",
    "sns.boxplot(x='Brand', y='Price ($)', data=laptops, ax=axes[0][1], palette='Spectral')\n",
    "axes[0][1].set_title('Price depending on the Brand')\n",
    "axes[0][1].set_xlabel('Brand')\n",
    "axes[0][1].set_ylabel('Price ($)')\n",
    "axes[0][1].tick_params(axis='x', rotation=45)\n",
    "\n",
    "# Price vs Processor\n",
    "sns.boxplot(x='Processor', y='Price ($)', data=laptops, ax=axes[0][2], palette='cividis')\n",
    "axes[0][2].set_title('Price depending on the CPU')\n",
    "axes[0][2].set_xlabel('CPU')\n",
    "axes[0][2].set_ylabel('Price ($)')\n",
    "axes[0][2].tick_params(axis='x', rotation=45)\n",
    "\n",
    "plt.tight_layout()\n",
    "plt.show()\n",
    "plt.clf()"
   ]
  },
  {
   "cell_type": "markdown",
   "id": "7465f05f-095a-4d27-bcfc-56fef7cda31d",
   "metadata": {},
   "source": [
    "## 2. Average Price by Brand\n",
    "\n",
    "The following bar plot shows the average price of laptops by brand."
   ]
  },
  {
   "cell_type": "code",
   "execution_count": null,
   "id": "1e4652a7-59c5-4ab2-ae3d-d2c3cbdf6d34",
   "metadata": {},
   "outputs": [],
   "source": [
    "brand_avg_price = laptops.groupby('Brand')['Price ($)'].mean().sort_values(ascending=False)\n",
    "\n",
    "plt.figure(figsize=(10,5))\n",
    "sns.barplot(x=brand_avg_price.index, y=brand_avg_price.values, palette='coolwarm')\n",
    "plt.title('Average price depending on brand')\n",
    "plt.xticks(rotation=45)\n",
    "plt.ylabel('Average Price ($)')\n",
    "plt.show()\n",
    "plt.clf()"
   ]
  },
  {
   "cell_type": "markdown",
   "id": "9c8bdfb1-14d4-41b0-99f2-45f85351d453",
   "metadata": {},
   "source": [
    "## 3. Price Segmentation\n",
    "\n",
    "We divide the laptops into four price categories and visualize the distribution."
   ]
  },
  {
   "cell_type": "code",
   "execution_count": null,
   "id": "407d5e1f-3c81-4cb0-ae90-2b5ed5f4c33b",
   "metadata": {},
   "outputs": [],
   "source": [
    "laptops['Price Category'] = pd.cut(laptops['Price ($)'],\n",
    "                                  bins=[0, 800, 1500, 3000, laptops['Price ($)'].max()],\n",
    "                                  labels=['Low-End', 'Mid-End', 'High-End', 'Luxury'])\n",
    "\n",
    "price_segments = laptops['Price Category'].value_counts()\n",
    "\n",
    "plt.figure(figsize=(8,5))\n",
    "sns.barplot(x=price_segments.index, y=price_segments.values, palette='viridis')\n",
    "plt.title('Distribution of laptops by price segments')\n",
    "plt.ylabel('Number of laptops')\n",
    "plt.show()\n",
    "plt.clf()"
   ]
  },
  {
   "cell_type": "markdown",
   "id": "96e8a223-f4a1-4115-9d73-2f2672bf7341",
   "metadata": {},
   "source": [
    "## 4. Key Insights and Recommendations\n",
    "\n",
    "### Key Insights:\n",
    "- **GPU and Processor Impact:** By analyzing the box plots, it appears that certain GPUs (for example, high-end Nvidia cards) and CPUs are associated with higher laptop prices.\n",
    "- **Brand Influence:** Brands like Apple and Razer tend to have higher average prices compared to others.\n",
    "- **Price Segmentation:** The majority of laptops fall into the 'Mid-End' and 'High-End' segments\n",
    "- **Storage Impact:** Larger SSD capacities are generally linked with higher prices.\n",
    "\n",
    "\n",
    "## Conclusion\n",
    "This notebook provides a detailed exploratory analysis of laptop prices. It demonstrates the impact of various features on price and segments the market into different categories. The findings can be further enhanced with predictive modeling"
   ]
  }
 ],
 "metadata": {
  "kernelspec": {
   "display_name": "Python 3",
   "language": "python",
   "name": "python3"
  },
  "language_info": {
   "name": "python",
   "version": "3.x"
  }
 },
 "nbformat": 4,
 "nbformat_minor": 5
}
